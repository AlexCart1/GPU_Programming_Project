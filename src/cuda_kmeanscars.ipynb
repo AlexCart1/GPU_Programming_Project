{
 "cells": [
  {
   "cell_type": "code",
   "execution_count": null,
   "metadata": {
    "vscode": {
     "languageId": "plaintext"
    }
   },
   "outputs": [],
   "source": [
    "import pandas as pd\n",
    "import numpy as np\n",
    "import matplotlib.pyplot as plt\n",
    "from mpl_toolkits.mplot3d import Axes3D\n",
    "import os\n",
    "import time\n",
    "from numba import cuda\n",
    "import math\n",
    "\n",
    "# Chargement\n",
    "DATA_PATH = \"../data/ADEME-CarLabelling.csv\"\n",
    "df = pd.read_csv(DATA_PATH, sep=';', encoding='utf-8')\n",
    "\n",
    "colonnes_utiles = ['Poids à vide', 'Puissance fiscale', 'Prix véhicule']\n",
    "df = df[colonnes_utiles].dropna()\n",
    "df = df[(df['Poids à vide'] > 400) & (df['Puissance fiscale'] > 1) & (df['Prix véhicule'] > 1000)]\n",
    "df = pd.concat([df] * 10, ignore_index=True)\n",
    "\n",
    "X = df.values.astype(np.float32)\n",
    "X_mean = np.mean(X, axis=0)\n",
    "X_std = np.std(X, axis=0)\n",
    "X_scaled = (X - X_mean) / X_std\n"
   ]
  },
  {
   "cell_type": "code",
   "execution_count": null,
   "metadata": {
    "vscode": {
     "languageId": "plaintext"
    }
   },
   "outputs": [],
   "source": [
    "k = 4\n",
    "np.random.seed(42)\n",
    "centroids = X_scaled[np.random.choice(X_scaled.shape[0], k, replace=False)]\n",
    "n_samples, n_features = X_scaled.shape\n",
    "\n",
    "@cuda.jit\n",
    "def cuda_assign_clusters(data, centroids, labels):\n",
    "    i = cuda.grid(1)\n",
    "    if i < data.shape[0]:\n",
    "        min_dist = 1e20\n",
    "        best_cluster = -1\n",
    "        for j in range(centroids.shape[0]):\n",
    "            dist = 0.0\n",
    "            for f in range(data.shape[1]):\n",
    "                temp = data[i, f] - centroids[j, f]\n",
    "                dist += temp * temp\n",
    "            if dist < min_dist:\n",
    "                min_dist = dist\n",
    "                best_cluster = j\n",
    "        labels[i] = best_cluster\n",
    "\n"
   ]
  },
  {
   "cell_type": "code",
   "execution_count": null,
   "metadata": {
    "vscode": {
     "languageId": "plaintext"
    }
   },
   "outputs": [],
   "source": [
    "start_time = time.time()\n",
    "\n",
    "d_data = cuda.to_device(X_scaled)\n",
    "d_centroids = cuda.to_device(centroids)\n",
    "d_labels = cuda.device_array(n_samples, dtype=np.int32)\n",
    "\n",
    "threads_per_block = 128\n",
    "blocks_per_grid = math.ceil(n_samples / threads_per_block)\n",
    "\n",
    "max_iter = 100\n",
    "for _ in range(max_iter):\n",
    "    cuda_assign_clusters[blocks_per_grid, threads_per_block](d_data, d_centroids, d_labels)\n",
    "    labels = d_labels.copy_to_host()\n",
    "\n",
    "    # Update sur CPU\n",
    "    new_centroids = np.zeros_like(centroids)\n",
    "    counts = np.zeros(k)\n",
    "    for i in range(n_samples):\n",
    "        new_centroids[labels[i]] += X_scaled[i]\n",
    "        counts[labels[i]] += 1\n",
    "    for j in range(k):\n",
    "        if counts[j] > 0:\n",
    "            new_centroids[j] /= counts[j]\n",
    "\n",
    "    if np.allclose(centroids, new_centroids):\n",
    "        break\n",
    "    d_centroids = cuda.to_device(new_centroids)\n",
    "    centroids = new_centroids\n",
    "\n",
    "end_time = time.time()\n",
    "print(f\"Temps d'exécution total : {end_time - start_time:.2f} secondes\")\n",
    "\n",
    "\n"
   ]
  },
  {
   "cell_type": "code",
   "execution_count": null,
   "metadata": {
    "vscode": {
     "languageId": "plaintext"
    }
   },
   "outputs": [],
   "source": [
    "fig = plt.figure(figsize=(10, 7))\n",
    "ax = fig.add_subplot(111, projection='3d')\n",
    "ax.scatter(X_scaled[:, 0], X_scaled[:, 1], X_scaled[:, 2], c=labels, cmap='viridis', s=1)\n",
    "ax.set_xlabel('Poids à vide')\n",
    "ax.set_ylabel('Puissance fiscale')\n",
    "ax.set_zlabel('Prix véhicule')\n",
    "plt.title(f\"Clustering K-Means (k={k}) des véhicules (CUDA simple)\")\n",
    "plt.tight_layout()\n",
    "plt.show()\n",
    "\n",
    "# Affichage des clusters\n",
    "df['Cluster'] = labels\n",
    "df.groupby('Cluster')[colonnes_utiles].mean()\n"
   ]
  }
 ],
 "metadata": {
  "language_info": {
   "name": "python"
  }
 },
 "nbformat": 4,
 "nbformat_minor": 2
}
